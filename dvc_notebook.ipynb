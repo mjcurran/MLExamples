{
 "cells": [
  {
   "cell_type": "code",
   "execution_count": 1,
   "id": "baacf067",
   "metadata": {},
   "outputs": [],
   "source": [
    "import torch as t, torch.nn as nn, torch.nn.functional as F, torch.distributions as tdist\n",
    "from torch.utils.data import DataLoader, Dataset\n",
    "from torch.utils.data import random_split\n",
    "import torchvision as tv, torchvision.transforms as tr\n",
    "import os\n",
    "\n",
    "import sys\n",
    "import numpy as np\n",
    "import json\n",
    "from torchvision import datasets,transforms\n",
    "import matplotlib.pyplot as plt\n",
    "import dvc.api"
   ]
  },
  {
   "cell_type": "code",
   "execution_count": 2,
   "id": "b9fcdf3a",
   "metadata": {},
   "outputs": [],
   "source": [
    "class NNThree(nn.Module):\n",
    "    def __init__(self):\n",
    "        super().__init__()\n",
    "        self.network = nn.Sequential(\n",
    "            nn.Conv2d(3, 32, kernel_size=3, padding=1),  #input tensors [x, 3, 32, 32]\n",
    "            nn.Softplus(), #softplus is a different non-linear activation function, similar to ReLU\n",
    "            nn.Conv2d(32, 64, kernel_size=3, stride=1, padding=1),  #input [ x, 32, 32, 32]\n",
    "            nn.Softplus(),  #output [x, 64, 32, 32]\n",
    "            nn.MaxPool2d(2, 2),  #output [x, 64, 16, 16]\n",
    "            nn.BatchNorm2d(64), #, eps=1e-05, momentum=0.3, affine=True, track_running_stats=True),\n",
    "            \n",
    "            nn.Conv2d(64, 128, kernel_size=3, stride=1, padding=1), #out [1, 128, 16, 16]\n",
    "            nn.ReLU(),\n",
    "            nn.Conv2d(128, 128, kernel_size=3, stride=1, padding=1), #out [1, 128, 16, 16]\n",
    "            nn.ReLU(),\n",
    "            nn.MaxPool2d(2, 2), # output: 128 x 8 x 8\n",
    "            nn.BatchNorm2d(128),\n",
    "\n",
    "            nn.Conv2d(128, 256, kernel_size=3, stride=1, padding=1), # out [1, 256, 8, 8]\n",
    "            nn.ReLU(),\n",
    "            nn.Conv2d(256, 256, kernel_size=3, stride=1, padding=1), # out [1, 256, 8, 8]\n",
    "            nn.ReLU(),\n",
    "            nn.MaxPool2d(2, 2), # output: 256 x 4 x 4\n",
    "            nn.BatchNorm2d(256),\n",
    "            \n",
    "            nn.Flatten(),\n",
    "            nn.Linear(256*4*4, 1024),\n",
    "            nn.ReLU(),\n",
    "            nn.Linear(1024, 512),\n",
    "            nn.ReLU(),\n",
    "            nn.Linear(512, 10)\n",
    "        )\n",
    "        \n",
    "    def forward(self, xb):\n",
    "        return self.network(xb)"
   ]
  },
  {
   "cell_type": "code",
   "execution_count": 3,
   "id": "be08fb31",
   "metadata": {},
   "outputs": [
    {
     "data": {
      "text/plain": [
       "'gdrive://1KnAUlHs375IGNtM1sOePm8iR6rQbKrhB/7e/51a4a209a16d3a7492a9a89b1a1b0a'"
      ]
     },
     "execution_count": 3,
     "metadata": {},
     "output_type": "execute_result"
    }
   ],
   "source": [
    "PATH = './manualwideresnetCIFAR10.pth'\n",
    "\n",
    "resource_url = dvc.api.get_url(PATH, repo='https://github.com/mjcurran/MLExamples')\n",
    "resource_url"
   ]
  },
  {
   "cell_type": "code",
   "execution_count": 10,
   "id": "866b5974",
   "metadata": {},
   "outputs": [
    {
     "data": {
      "text/plain": [
       "<All keys matched successfully>"
      ]
     },
     "execution_count": 10,
     "metadata": {},
     "output_type": "execute_result"
    }
   ],
   "source": [
    "import io\n",
    "\n",
    "model = NNThree()\n",
    "# torch.load needs a seekable \"file\" so read the remote model into a buffer first\n",
    "with dvc.api.open('manualwideresnetCIFAR10.pth', repo='https://github.com/mjcurran/MLExamples', mode='rb') as f:\n",
    "    buffer = io.BytesIO(f.read())\n",
    "    \n",
    "model.load_state_dict(\n",
    "    t.load(buffer\n",
    "          )\n",
    ")"
   ]
  },
  {
   "cell_type": "code",
   "execution_count": null,
   "id": "35550226",
   "metadata": {},
   "outputs": [],
   "source": []
  }
 ],
 "metadata": {
  "kernelspec": {
   "display_name": "Python 3",
   "language": "python",
   "name": "python3"
  },
  "language_info": {
   "codemirror_mode": {
    "name": "ipython",
    "version": 3
   },
   "file_extension": ".py",
   "mimetype": "text/x-python",
   "name": "python",
   "nbconvert_exporter": "python",
   "pygments_lexer": "ipython3",
   "version": "3.9.5"
  }
 },
 "nbformat": 4,
 "nbformat_minor": 5
}
